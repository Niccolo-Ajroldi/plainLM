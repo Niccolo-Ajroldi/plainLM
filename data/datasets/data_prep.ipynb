{
 "cells": [
  {
   "cell_type": "markdown",
   "id": "b75ab2cd",
   "metadata": {},
   "source": [
    "# Intra-document masking"
   ]
  },
  {
   "cell_type": "code",
   "execution_count": 1,
   "id": "8b7ffcc1",
   "metadata": {
    "vscode": {
     "languageId": "plaintext"
    }
   },
   "outputs": [
    {
     "name": "stderr",
     "output_type": "stream",
     "text": [
      "/home/najroldi/miniconda3/envs/plainLM/lib/python3.12/site-packages/tqdm/auto.py:21: TqdmWarning: IProgress not found. Please update jupyter and ipywidgets. See https://ipywidgets.readthedocs.io/en/stable/user_install.html\n",
      "  from .autonotebook import tqdm as notebook_tqdm\n"
     ]
    }
   ],
   "source": [
    "import os\n",
    "import torch\n",
    "\n",
    "from absl import app, flags\n",
    "from itertools import chain\n",
    "from functools import partial\n",
    "from typing import Dict, List, Any\n",
    "\n",
    "from datasets import load_dataset, Dataset\n",
    "from transformers import GPT2Tokenizer\n",
    "from timeit import default_timer as timer\n",
    "\n",
    "from utils import concat_chunck, _make_intra_doc_causal_mask"
   ]
  },
  {
   "cell_type": "markdown",
   "id": "1fd17eb7",
   "metadata": {},
   "source": [
    "## Dummy data"
   ]
  },
  {
   "cell_type": "code",
   "execution_count": 2,
   "id": "b5b4c5d7",
   "metadata": {
    "vscode": {
     "languageId": "plaintext"
    }
   },
   "outputs": [
    {
     "data": {
      "text/plain": [
       "{'input_ids': [[0, 1, 1, 1, 1],\n",
       "  [1, 1, 2, 2, 3],\n",
       "  [4, 4, 4, 4, 4],\n",
       "  [4, 4, 4, 5, 5],\n",
       "  [5, 5, 5, 5, 5],\n",
       "  [5, 6, 6, 6, 6]],\n",
       " 'intra_docs_bounds': [[1, 4], [2, 2, 1], [5], [3, 2], [5], [1, 4]],\n",
       " 'intra_docs_mask': [tensor([[ True, False, False, False, False],\n",
       "          [False,  True, False, False, False],\n",
       "          [False,  True,  True, False, False],\n",
       "          [False,  True,  True,  True, False],\n",
       "          [False,  True,  True,  True,  True]]),\n",
       "  tensor([[ True, False, False, False, False],\n",
       "          [ True,  True, False, False, False],\n",
       "          [False, False,  True, False, False],\n",
       "          [False, False,  True,  True, False],\n",
       "          [False, False, False, False,  True]]),\n",
       "  tensor([[ True, False, False, False, False],\n",
       "          [ True,  True, False, False, False],\n",
       "          [ True,  True,  True, False, False],\n",
       "          [ True,  True,  True,  True, False],\n",
       "          [ True,  True,  True,  True,  True]]),\n",
       "  tensor([[ True, False, False, False, False],\n",
       "          [ True,  True, False, False, False],\n",
       "          [ True,  True,  True, False, False],\n",
       "          [False, False, False,  True, False],\n",
       "          [False, False, False,  True,  True]]),\n",
       "  tensor([[ True, False, False, False, False],\n",
       "          [ True,  True, False, False, False],\n",
       "          [ True,  True,  True, False, False],\n",
       "          [ True,  True,  True,  True, False],\n",
       "          [ True,  True,  True,  True,  True]]),\n",
       "  tensor([[ True, False, False, False, False],\n",
       "          [False,  True, False, False, False],\n",
       "          [False,  True,  True, False, False],\n",
       "          [False,  True,  True,  True, False],\n",
       "          [False,  True,  True,  True,  True]])]}"
      ]
     },
     "execution_count": 2,
     "metadata": {},
     "output_type": "execute_result"
    }
   ],
   "source": [
    "# Some fake tokens\n",
    "examples = {\n",
    "    'input_ids': [\n",
    "        [0] * 1,\n",
    "        [1] * 6,\n",
    "        [2] * 2,\n",
    "        [3] * 1,\n",
    "        [4] * 8,\n",
    "        [5] * 8,\n",
    "        [6] * 8,\n",
    "    ]\n",
    "}\n",
    "concat_chunck(examples, max_seq_length = 5)"
   ]
  },
  {
   "cell_type": "markdown",
   "id": "6925f211",
   "metadata": {},
   "source": [
    "Looks like it's working as espected. Let's try the batched mode."
   ]
  },
  {
   "cell_type": "code",
   "execution_count": 3,
   "id": "0af00780",
   "metadata": {
    "vscode": {
     "languageId": "plaintext"
    }
   },
   "outputs": [
    {
     "data": {
      "text/plain": [
       "Dataset({\n",
       "    features: ['input_ids'],\n",
       "    num_rows: 7\n",
       "})"
      ]
     },
     "execution_count": 3,
     "metadata": {},
     "output_type": "execute_result"
    }
   ],
   "source": [
    "# Some fake tokens\n",
    "examples = {\n",
    "    'input_ids': [\n",
    "        [0] * 1,\n",
    "        [1] * 6,\n",
    "        [2] * 2,\n",
    "        [3] * 1,\n",
    "        [4] * 8,\n",
    "        [5] * 8,\n",
    "        [6] * 8,\n",
    "    ]\n",
    "}\n",
    "\n",
    "fake_ds = Dataset.from_dict(examples)\n",
    "fake_ds"
   ]
  },
  {
   "cell_type": "code",
   "execution_count": null,
   "id": "3e5b5b12-4dbe-41e3-a987-1291cf1b302d",
   "metadata": {},
   "outputs": [
    {
     "name": "stderr",
     "output_type": "stream",
     "text": [
      "Map (num_proc=2):   0%|                                                                       | 0/7 [00:00<?, ? examples/s]"
     ]
    }
   ],
   "source": [
    "map_setup = dict(\n",
    "    batched=True,\n",
    "    batch_size=1024,\n",
    "    num_proc=2\n",
    ")\n",
    "lm_datasets = fake_ds.map(\n",
    "  partial(concat_chunck, max_seq_length=5),\n",
    "  **map_setup\n",
    "  # batched=True,\n",
    "  # batch_size=10,\n",
    "  # num_proc=2\n",
    ")"
   ]
  },
  {
   "cell_type": "code",
   "execution_count": null,
   "id": "c42402ef-f4dd-468e-9b21-8ffdf84e82a6",
   "metadata": {},
   "outputs": [],
   "source": [
    "print(lm_datasets)"
   ]
  },
  {
   "cell_type": "markdown",
   "id": "2f4feff2",
   "metadata": {},
   "source": [
    "Higher token loss, makes sense."
   ]
  },
  {
   "cell_type": "code",
   "execution_count": null,
   "id": "b189bb22",
   "metadata": {
    "vscode": {
     "languageId": "plaintext"
    }
   },
   "outputs": [],
   "source": [
    "\n",
    "# ds = tokenized_datasets.take(10_000)\n",
    "# examples = ds[:]\n",
    "#\n",
    "# >>> type(ds)\n",
    "# <class 'datasets.arrow_dataset.Dataset'>\n",
    "# >>> len(ds)\n",
    "# 10000\n",
    "# >>> ds\n",
    "# Dataset({\n",
    "#     features: ['input_ids'],\n",
    "#     num_rows: 10000\n",
    "# })\n",
    "# >>> \n",
    "# >>> type(examples)\n",
    "# <class 'dict'>\n",
    "# >>> type(examples['input_ids'])\n",
    "# <class 'list'>\n",
    "# >>> len(examples['input_ids'])\n",
    "# 10000\n",
    "# >>> len(examples['input_ids'][0])\n",
    "# 157\n",
    "# >>> len(examples['input_ids'][1])\n",
    "# 1257\n",
    "# >>>\n",
    "    # doc_ids = list(chain(*[[i]*l for i, l in enumerate(lengths)]))\n",
    "    # result['intra_mask'] = [\n",
    "    #     [\n",
    "    #         [1 if doc_ids[i] == doc_ids[j] else 0\n",
    "    #          for j in range(start, start+max_seq_length)]\n",
    "    #         for i in range(start, start+max_seq_length)\n",
    "    #     ]\n",
    "    #     for start in range(0, total_length, max_seq_length)\n",
    "    # ]\n"
   ]
  },
  {
   "cell_type": "markdown",
   "id": "c55c6601",
   "metadata": {},
   "source": [
    "## FineWebEdu"
   ]
  },
  {
   "cell_type": "code",
   "execution_count": null,
   "id": "0932f5ea",
   "metadata": {
    "vscode": {
     "languageId": "plaintext"
    }
   },
   "outputs": [],
   "source": [
    "nrows = 1000\n",
    "\n",
    "seq_len = 2048\n",
    "\n",
    "# Load in streaming mode, creates an IterableDataset\n",
    "raw_dataset = load_dataset(\n",
    "  \"HuggingFaceFW/fineweb-edu\",\n",
    "  split = 'train',\n",
    "  name='sample-10BT',\n",
    "  streaming=streaming,\n",
    "  columns=[\"text\"]\n",
    ")\n",
    "\n",
    "# From IterableDataset to Dataset\n",
    "iterable_ds = raw_dataset.take(nrows)\n",
    "def gen_from_iterable_dataset(iterable_ds):\n",
    "  yield from iterable_ds\n",
    "partial_obj = partial(gen_from_iterable_dataset, iterable_ds)\n",
    "dataset = Dataset.from_generator(partial_obj, features=iterable_ds.features)\n",
    "\n",
    "\n",
    "# Shuffle so that multiproc has shards of similar size\n",
    "if shuffle_raw_data:\n",
    "  dataset = dataset.shuffle(seed=1996)"
   ]
  }
 ],
 "metadata": {
  "kernelspec": {
   "display_name": "Python 3 (ipykernel)",
   "language": "python",
   "name": "python3"
  },
  "language_info": {
   "codemirror_mode": {
    "name": "ipython",
    "version": 3
   },
   "file_extension": ".py",
   "mimetype": "text/x-python",
   "name": "python",
   "nbconvert_exporter": "python",
   "pygments_lexer": "ipython3",
   "version": "3.12.9"
  }
 },
 "nbformat": 4,
 "nbformat_minor": 5
}
